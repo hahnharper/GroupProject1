{
 "cells": [
  {
   "cell_type": "code",
   "execution_count": 139,
   "metadata": {},
   "outputs": [],
   "source": [
    "import pandas as pd\n",
    "import numpy as np\n",
    "import matplotlib.pyplot as plt\n",
    "from itertools import cycle, islice\n",
    "import scipy.stats as st"
   ]
  },
  {
   "cell_type": "code",
   "execution_count": 140,
   "metadata": {
    "scrolled": true
   },
   "outputs": [
    {
     "data": {
      "text/html": [
       "<div>\n",
       "<style scoped>\n",
       "    .dataframe tbody tr th:only-of-type {\n",
       "        vertical-align: middle;\n",
       "    }\n",
       "\n",
       "    .dataframe tbody tr th {\n",
       "        vertical-align: top;\n",
       "    }\n",
       "\n",
       "    .dataframe thead th {\n",
       "        text-align: right;\n",
       "    }\n",
       "</style>\n",
       "<table border=\"1\" class=\"dataframe\">\n",
       "  <thead>\n",
       "    <tr style=\"text-align: right;\">\n",
       "      <th></th>\n",
       "      <th>Rank</th>\n",
       "      <th>Player</th>\n",
       "      <th>Pos</th>\n",
       "      <th>ATT</th>\n",
       "      <th>COMP</th>\n",
       "      <th>CMP %</th>\n",
       "      <th>RATING</th>\n",
       "      <th>YD</th>\n",
       "      <th>TD</th>\n",
       "      <th>INT</th>\n",
       "      <th>Unnamed: 11</th>\n",
       "    </tr>\n",
       "    <tr>\n",
       "      <th>Team</th>\n",
       "      <th></th>\n",
       "      <th></th>\n",
       "      <th></th>\n",
       "      <th></th>\n",
       "      <th></th>\n",
       "      <th></th>\n",
       "      <th></th>\n",
       "      <th></th>\n",
       "      <th></th>\n",
       "      <th></th>\n",
       "      <th></th>\n",
       "    </tr>\n",
       "  </thead>\n",
       "  <tbody>\n",
       "    <tr>\n",
       "      <td>KC</td>\n",
       "      <td>NaN</td>\n",
       "      <td>Patrick Mahomes</td>\n",
       "      <td>QB</td>\n",
       "      <td>484</td>\n",
       "      <td>319</td>\n",
       "      <td>65.9</td>\n",
       "      <td>105.31</td>\n",
       "      <td>4,031</td>\n",
       "      <td>26</td>\n",
       "      <td>5</td>\n",
       "      <td>NaN</td>\n",
       "    </tr>\n",
       "    <tr>\n",
       "      <td>SF</td>\n",
       "      <td>NaN</td>\n",
       "      <td>Jimmy Garoppolo</td>\n",
       "      <td>QB</td>\n",
       "      <td>476</td>\n",
       "      <td>329</td>\n",
       "      <td>69.1</td>\n",
       "      <td>102.03</td>\n",
       "      <td>3,978</td>\n",
       "      <td>27</td>\n",
       "      <td>13</td>\n",
       "      <td>NaN</td>\n",
       "    </tr>\n",
       "    <tr>\n",
       "      <td>SF</td>\n",
       "      <td>NaN</td>\n",
       "      <td>Dante Pettis</td>\n",
       "      <td>WR</td>\n",
       "      <td>1</td>\n",
       "      <td>1</td>\n",
       "      <td>100.0</td>\n",
       "      <td>118.75</td>\n",
       "      <td>16</td>\n",
       "      <td>0</td>\n",
       "      <td>0</td>\n",
       "      <td>NaN</td>\n",
       "    </tr>\n",
       "  </tbody>\n",
       "</table>\n",
       "</div>"
      ],
      "text/plain": [
       "      Rank           Player Pos  ATT  COMP  CMP %  RATING     YD  TD  INT  \\\n",
       "Team                                                                        \n",
       "KC     NaN  Patrick Mahomes  QB  484   319   65.9  105.31  4,031  26    5   \n",
       "SF     NaN  Jimmy Garoppolo  QB  476   329   69.1  102.03  3,978  27   13   \n",
       "SF     NaN     Dante Pettis  WR    1     1  100.0  118.75     16   0    0   \n",
       "\n",
       "      Unnamed: 11  \n",
       "Team               \n",
       "KC            NaN  \n",
       "SF            NaN  \n",
       "SF            NaN  "
      ]
     },
     "execution_count": 140,
     "metadata": {},
     "output_type": "execute_result"
    }
   ],
   "source": [
    "#Pass Attempts vs Completion\n",
    "file = 'NFL Team (Passing).csv'\n",
    "data_df = pd.read_csv(file)\n",
    "data_df.set_index('Team')"
   ]
  },
  {
   "cell_type": "code",
   "execution_count": 148,
   "metadata": {},
   "outputs": [
    {
     "data": {
      "image/png": "[encoded data removed]",
      "text/plain": [
       "<Figure size 432x288 with 1 Axes>"
      ]
     },
     "metadata": {
      "needs_background": "light"
     },
     "output_type": "display_data"
    }
   ],
   "source": [
    "df = data_df.loc[data_df['ATT'] == 484]\n",
    "df\n",
    "df3= data_df.loc[data_df['COMP'] == 319]\n",
    "df3\n",
    "\n",
    "\n",
    "\n",
    "\n",
    "df.plot(kind='bar')\n",
    "# df3.plot(kind='bar')\n",
    "plt.grid(alpha=1)\n",
    "plt.legend(loc='best', bbox_to_anchor=(1.4, 1))\n",
    "plt.xlabel(\"KC Stats\")\n",
    "plt.ylabel(\"Points\")\n",
    "plt.savefig('KC_Stats.png')"
   ]
  },
  {
   "cell_type": "code",
   "execution_count": 147,
   "metadata": {},
   "outputs": [
    {
     "data": {
      "image/png": "[encoded data removed]",
      "text/plain": [
       "<Figure size 432x288 with 1 Axes>"
      ]
     },
     "metadata": {
      "needs_background": "light"
     },
     "output_type": "display_data"
    }
   ],
   "source": [
    "df1 = data_df.loc[data_df['ATT'] == 476]\n",
    "df1\n",
    "df2= data_df.loc[data_df['COMP'] == 329]\n",
    "df2\n",
    "\n",
    "\n",
    "\n",
    "df1.plot(kind='bar')\n",
    "# df3.plot(kind='bar')\n",
    "plt.grid(alpha=1)\n",
    "plt.legend(loc='best', bbox_to_anchor=(1.4, 1))\n",
    "plt.xlabel(\"SF Stats\")\n",
    "plt.ylabel(\"Points\")\n",
    "plt.savefig('SF_Stats.png')"
   ]
  },
  {
   "cell_type": "code",
   "execution_count": null,
   "metadata": {},
   "outputs": [],
   "source": []
  }
 ],
 "metadata": {
  "kernelspec": {
   "display_name": "Python 3",
   "language": "python",
   "name": "python3"
  },
  "language_info": {
   "codemirror_mode": {
    "name": "ipython",
    "version": 3
   },
   "file_extension": ".py",
   "mimetype": "text/x-python",
   "name": "python",
   "nbconvert_exporter": "python",
   "pygments_lexer": "ipython3",
   "version": "3.7.4"
  }
 },
 "nbformat": 4,
 "nbformat_minor": 2
}
